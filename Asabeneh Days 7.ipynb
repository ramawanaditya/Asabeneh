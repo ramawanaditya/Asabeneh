{
 "cells": [
  {
   "cell_type": "code",
   "execution_count": 11,
   "id": "37f591be",
   "metadata": {},
   "outputs": [
    {
     "name": "stdout",
     "output_type": "stream",
     "text": [
      "Berapa panjang set it companies = 7\n",
      "{'Facebook', 'Twitter', 'IBM', 'Microsoft', 'Apple', 'Amazon', 'Google', 'Oracle'}\n",
      "{'Facebook', 'IBM', 'Apple', 'Amazon', 'Oracle', 'Instagram', 'Twitter', 'Gojek', 'Bing', 'Microsoft', 'Google'}\n",
      "{'Facebook', 'Apple', 'Amazon', 'Oracle', 'Instagram', 'Twitter', 'Gojek', 'Bing', 'Microsoft', 'Google'}\n",
      "{'Facebook', 'Apple', 'Amazon', 'Oracle', 'Instagram', 'Twitter', 'Gojek', 'Microsoft', 'Google'}\n"
     ]
    }
   ],
   "source": [
    "it_companies = {'Facebook', 'Google', 'Microsoft', 'Apple', 'IBM', 'Oracle', 'Amazon'}\n",
    "# No. 1 Find the length of the set it_companies\n",
    "print(f\"Berapa panjang set it companies = {len(it_companies)}\")\n",
    "# No. 2 Add 'Twitter' to it_companies\n",
    "it_companies.add('Twitter')\n",
    "print(it_companies)\n",
    "# No. 3 Insert multiple IT companies at once to the set it_companies\n",
    "it_companies.update(['Bing', 'Instagram', 'Gojek'])\n",
    "print(it_companies)\n",
    "# No. 4 Remove one of the companies from the set it_companies\n",
    "it_companies.remove('IBM')\n",
    "print(it_companies)\n",
    "# No. 5 What is the difference between remove and discard\n",
    "it_companies.discard('Bing') #tidak menimbulkan syntax error jika yang dihapus tidak ada dalam sets\n",
    "print(it_companies)"
   ]
  },
  {
   "cell_type": "code",
   "execution_count": 22,
   "id": "b80d8e81",
   "metadata": {},
   "outputs": [
    {
     "name": "stdout",
     "output_type": "stream",
     "text": [
      "{19, 20, 22, 24, 25, 26, 27, 28}\n",
      "{19, 20, 22, 24, 25, 26}\n",
      "True\n",
      "False\n",
      "False\n",
      "{19, 20, 22, 24, 25, 26, 27, 28}\n",
      "{19, 20, 22, 24, 25, 26, 27, 28}\n",
      "{27, 28}\n"
     ]
    }
   ],
   "source": [
    "# Exercise 2\n",
    "A = {19, 22, 24, 20, 25, 26}\n",
    "B = {19, 22, 20, 25, 26, 24, 28, 27}\n",
    "# No. 1 Join A and B\n",
    "print(A.union(B))\n",
    "# No. 2 Find A intersection B\n",
    "print(A.intersection(B))\n",
    "# No. 3 Is A subset of B\n",
    "print(A.issubset(B))\n",
    "print(A.issuperset(B))\n",
    "# No. 4 Are A and B disjoint sets\n",
    "print(A.isdisjoint(B))\n",
    "# No. 5 Join A with B and B with A\n",
    "print(A.union(B) and B.union(A))\n",
    "print(B.union(A))\n",
    "# No. 6 What is the symmetric difference between A and B\n",
    "print(A.symmetric_difference(B))\n",
    "# No. 7 Delete the sets completely\n",
    "del A, B"
   ]
  },
  {
   "cell_type": "code",
   "execution_count": 29,
   "id": "3a52dd0e",
   "metadata": {},
   "outputs": [
    {
     "name": "stdout",
     "output_type": "stream",
     "text": [
      "{19, 22, 24, 25, 26}\n",
      "Panjang list = 8\n",
      "Panjang Sets = 5\n",
      "List Lebih besar dari sets\n",
      "10\n"
     ]
    }
   ],
   "source": [
    "# Exercise 3\n",
    "age = [22, 19, 24, 25, 26, 24, 25, 24]\n",
    "# No. 1 Convert the ages to a set and compare the length of the list and the set, which one is bigger?\n",
    "usia = set(age) #ketika dirubah kedalam set, maka nilai yang sama akan menjadi satu.\n",
    "print(usia)\n",
    "panjanglist = len(age)\n",
    "panjangsets = len(usia)\n",
    "print(f\"Panjang list = {len(age)}\")\n",
    "print(f\"Panjang Sets = {len(usia)}\")\n",
    "if panjanglist > panjangsets:\n",
    "    print(\"List Lebih besar dari sets\")\n",
    "else:\n",
    "    print(\"Sets Lebih besar dari list\")\n",
    "\n",
    "# No. 2 Explain the difference between the following data types: string, list, tuple and set\n",
    "string = \"Ramawan\"\n",
    "jelaskanlist = ['Ramawan']\n",
    "jelaskantuple = ('Ramawan', 'Aditya')\n",
    "jelaskanset = {'Ramawan'}\n",
    "\n",
    "# No. 3 I am a teacher and I love to inspire and teach people. How many unique words have been used in the sentence? Use the split methods and set to get the unique words.\n",
    "sentence = \"I am a teacher and I love to inspire and teach people.\"\n",
    "words = set(sentence.split()) # menghitung berapa kata yang ada dikalimat tersebut tanpa menghitung spasi.\n",
    "unique_words = len(words)\n",
    "print(unique_words)"
   ]
  },
  {
   "cell_type": "code",
   "execution_count": null,
   "id": "eb7ec18b",
   "metadata": {},
   "outputs": [],
   "source": []
  }
 ],
 "metadata": {
  "kernelspec": {
   "display_name": "Python 3 (ipykernel)",
   "language": "python",
   "name": "python3"
  },
  "language_info": {
   "codemirror_mode": {
    "name": "ipython",
    "version": 3
   },
   "file_extension": ".py",
   "mimetype": "text/x-python",
   "name": "python",
   "nbconvert_exporter": "python",
   "pygments_lexer": "ipython3",
   "version": "3.9.13"
  }
 },
 "nbformat": 4,
 "nbformat_minor": 5
}
