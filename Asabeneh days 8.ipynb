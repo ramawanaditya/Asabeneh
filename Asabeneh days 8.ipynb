{
 "cells": [
  {
   "cell_type": "code",
   "execution_count": 2,
   "id": "4f9dc24b",
   "metadata": {},
   "outputs": [
    {
     "name": "stdout",
     "output_type": "stream",
     "text": [
      "{'nama': 'shibarium', 'warna': 'kuning', 'breed': 'shiba', 'kaki': 4, 'umur': 3}\n"
     ]
    }
   ],
   "source": [
    "# exercise day 8\n",
    "# No. 1 Create an empty dictionary called dog\n",
    "dog = {}\n",
    "# No. 2 Add name, color, breed, legs, age to the dog dictionary\n",
    "dog = {\n",
    "    'nama':'shibarium',\n",
    "    'warna':'kuning',\n",
    "    'breed':'shiba',\n",
    "    'kaki':4,\n",
    "    'umur':3\n",
    "}\n",
    "print(dog)"
   ]
  },
  {
   "cell_type": "code",
   "execution_count": 38,
   "id": "cde853f7",
   "metadata": {},
   "outputs": [
    {
     "name": "stdout",
     "output_type": "stream",
     "text": [
      "Panjang dictionary student = 9\n",
      "Apakah katakunci skills ada didalam student = True\n",
      "Graphic Design\n",
      "Tambahkan skill pada skills = {'firstname': 'Ramawan Aditya', 'lastname': 'Maullana Putra', 'gender': 'Male', 'age': 22, 'marital status': 'Single', 'Skills': ('Graphic Design', 'Photoshop', 'Illustrator'), 'country': 'Indonesia', 'city': 'Surabaya', 'address': 'Menanggal'}\n",
      "\n",
      "Ambil katakuncinya = dict_keys(['firstname', 'lastname', 'gender', 'age', 'marital status', 'Skills', 'country', 'city', 'address'])\n",
      "\n",
      "Ambil value yang ada dalam dictionary berbentuk list = dict_values(['Ramawan Aditya', 'Maullana Putra', 'Male', 22, 'Single', 'Graphic Design', 'Indonesia', 'Surabaya', 'Menanggal'])\n",
      "\n",
      "Hasil rubah dict kedalam list menggunakan items method = dict_items([('firstname', 'Ramawan Aditya'), ('lastname', 'Maullana Putra'), ('gender', 'Male'), ('age', 22), ('marital status', 'Single'), ('Skills', 'Graphic Design'), ('country', 'Indonesia'), ('city', 'Surabaya'), ('address', 'Menanggal')])\n",
      "\n",
      "item yang didelete = Maullana Putra\n",
      "Delete satu item = {'firstname': 'Ramawan Aditya', 'gender': 'Male', 'age': 22, 'marital status': 'Single', 'Skills': 'Graphic Design', 'country': 'Indonesia', 'city': 'Surabaya', 'address': 'Menanggal'}\n",
      "\n"
     ]
    }
   ],
   "source": [
    "# No. 3 Create a student dictionary and add first_name, last_name, gender, age, marital status, skills, \n",
    "# country, city and address as keys for the dictionary\n",
    "student = {\n",
    "    'firstname':'Ramawan Aditya',\n",
    "    'lastname':'Maullana Putra',\n",
    "    'gender':'Male',\n",
    "    'age':22,\n",
    "    'marital status':'Single',\n",
    "    'Skills':'Graphic Design',\n",
    "    'country':'Indonesia',\n",
    "    'city':'Surabaya',\n",
    "    'address':'Menanggal',\n",
    "    \n",
    "}\n",
    "murid = student.copy()\n",
    "\n",
    "# No. 4 Get the length of the student dictionary\n",
    "panjang = len(student)\n",
    "print(f\"Panjang dictionary student = {panjang}\")\n",
    "\n",
    "# No. 5 Get the value of skills and check the data type, it should be a list\n",
    "katakunci = \"Skills\"\n",
    "cekkatakunci = katakunci in murid\n",
    "print(f\"Apakah katakunci skills ada didalam student = {cekkatakunci}\")\n",
    "print(student.get(\"Skills\"))\n",
    "\n",
    "# No. 6 Modify the skills values by adding one or two skills\n",
    "student[\"Skills\"] = \"Graphic Design\", \"Photoshop\", \"Illustrator\"\n",
    "print(f\"Tambahkan skill pada skills = {student}\\n\")\n",
    "\n",
    "# No. 7 Get the dictionary keys as a list\n",
    "kunci = murid.keys()\n",
    "print(f\"Ambil katakuncinya = {kunci}\\n\")\n",
    "\n",
    "#No. 8 Get the dictionary values as a list\n",
    "value = murid.values()\n",
    "print(f\"Ambil value yang ada dalam dictionary berbentuk list = {value}\\n\")\n",
    "\n",
    "# No. 9 Change the dictionary to a list of tuples using items() method\n",
    "rubahlist = murid.items()\n",
    "print(f\"Hasil rubah dict kedalam list menggunakan items method = {rubahlist}\\n\")\n",
    "\n",
    "# No. 10 Delete one of the items in the dictionary\n",
    "deletesatu = murid.pop('lastname')\n",
    "print(f\"item yang didelete = {deletesatu}\")\n",
    "print(f\"Delete satu item = {murid}\\n\")\n",
    "\n",
    "#No. 11 Delete one of the dictionaries\n",
    "del murid\n",
    "del student"
   ]
  },
  {
   "cell_type": "code",
   "execution_count": null,
   "id": "b79ec9be",
   "metadata": {},
   "outputs": [],
   "source": []
  }
 ],
 "metadata": {
  "kernelspec": {
   "display_name": "Python 3 (ipykernel)",
   "language": "python",
   "name": "python3"
  },
  "language_info": {
   "codemirror_mode": {
    "name": "ipython",
    "version": 3
   },
   "file_extension": ".py",
   "mimetype": "text/x-python",
   "name": "python",
   "nbconvert_exporter": "python",
   "pygments_lexer": "ipython3",
   "version": "3.9.13"
  }
 },
 "nbformat": 4,
 "nbformat_minor": 5
}
