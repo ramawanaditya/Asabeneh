{
 "cells": [
  {
   "cell_type": "code",
   "execution_count": 2,
   "id": "d641b05a",
   "metadata": {},
   "outputs": [
    {
     "name": "stdout",
     "output_type": "stream",
     "text": [
      "Kalimatnya adalah = Thirty Days Of Pyhton\n"
     ]
    }
   ],
   "source": [
    "# 1. Concatenate the string 'Thirty', 'Days', 'Of', 'Python' to a single string, 'Thirty Days Of Python'.\n",
    "nama1 = \"Thirty\"\n",
    "nama2 = \"Days\"\n",
    "nama3 = \"Of\"\n",
    "nama4 = \"Pyhton\"\n",
    "space = ' '\n",
    "fullname = nama1 + space + nama2 + space + nama3 + space + nama4\n",
    "print(f\"Kalimatnya adalah = {fullname}\")"
   ]
  },
  {
   "cell_type": "code",
   "execution_count": 4,
   "id": "13d3d2c0",
   "metadata": {},
   "outputs": [
    {
     "name": "stdout",
     "output_type": "stream",
     "text": [
      "Kalimatnya adalah = Coding For All\n"
     ]
    }
   ],
   "source": [
    "# 2. Concatenate the string 'Coding', 'For' , 'All' to a single string, 'Coding For All'.\n",
    "nama1 = \"Coding\"\n",
    "nama2 = \"For\"\n",
    "nama3 = \"All\"\n",
    "space = ' '\n",
    "fullname = nama1 + space + nama2 + space + nama3\n",
    "print(f\"Kalimatnya adalah = {fullname}\")"
   ]
  },
  {
   "cell_type": "code",
   "execution_count": 83,
   "id": "87e4f0b5",
   "metadata": {},
   "outputs": [
    {
     "name": "stdout",
     "output_type": "stream",
     "text": [
      "coding for all\n",
      "Panjang kata Company = 14\n"
     ]
    }
   ],
   "source": [
    "# 3. Declare a variable named company and assign it to an initial value \"Coding For All\".\n",
    "company = \"coding for all\"\n",
    "# 4. Print the variable company using print().\n",
    "print(company)\n",
    "# 5. Print the length of the company string using len() method and print().\n",
    "panjang = len(company)\n",
    "print(f\"Panjang kata Company = {panjang}\")"
   ]
  },
  {
   "cell_type": "code",
   "execution_count": 90,
   "id": "a2300f27",
   "metadata": {},
   "outputs": [
    {
     "name": "stdout",
     "output_type": "stream",
     "text": [
      "Menjadi besar semua = CODING FOR ALL\n",
      "Menjadi kecil semua = coding for all\n",
      "Menjadi huruf kapital = Coding for all\n",
      "Menjadi Title = Coding For All\n",
      "Menjadi swapcase = CODING FOR ALL\n"
     ]
    }
   ],
   "source": [
    "# 6. Change all the characters to uppercase letters using upper() method.\n",
    "besarsemua = company.upper()\n",
    "print(f\"Menjadi besar semua = {besarsemua}\")\n",
    "# 7. Change all the characters to lowercase letters using lower() method.\n",
    "kecilsemua = besarsemua.lower()\n",
    "print(f\"Menjadi kecil semua = {kecilsemua}\")\n",
    "# 8. Use capitalize(), title(), swapcase() methods to format the value of the string Coding For All.\n",
    "kapital = company.capitalize()\n",
    "print(f\"Menjadi huruf kapital = {kapital}\")\n",
    "judul = company.title()\n",
    "print(f\"Menjadi Title = {judul}\")\n",
    "swapcase = company.swapcase()\n",
    "print(f\"Menjadi swapcase = {swapcase}\")"
   ]
  },
  {
   "cell_type": "code",
   "execution_count": 84,
   "id": "44f02550",
   "metadata": {},
   "outputs": [
    {
     "name": "stdout",
     "output_type": "stream",
     "text": [
      "Potong kalimat depannya = For All\n",
      "'Coding' ada dalam kalimat\n",
      "Python For All\n"
     ]
    }
   ],
   "source": [
    "# 9 . Cut(slice) out the first word of Coding For All String.\n",
    "kalimat = \"Coding For All\"\n",
    "slicefirst = kalimat[7:14]\n",
    "print(f\"Potong kalimat depannya = {slicefirst}\")\n",
    "# 10. Check if Coding For All string contains a word Coding using the method index, find or other methods.\n",
    "kalimat = \"Coding For All\"\n",
    "if 'Coding' in kalimat:\n",
    "    print(\"'Coding' ada dalam kalimat\")\n",
    "else:\n",
    "    print(\"'Coding' tidak ada dalam kalimat\")\n",
    "# 11. Replace the word coding in the string 'Coding For All' to Python.\n",
    "kalimat = \"Coding For All\"\n",
    "rubah = (kalimat.replace('Coding', 'Python'))\n",
    "print(rubah)"
   ]
  },
  {
   "cell_type": "code",
   "execution_count": 85,
   "id": "78f95938",
   "metadata": {},
   "outputs": [
    {
     "name": "stdout",
     "output_type": "stream",
     "text": [
      "Python For Everyone\n",
      "Python For All\n",
      "['Coding', 'For', 'All']\n",
      "['Coding For All']\n"
     ]
    }
   ],
   "source": [
    "# 12. Change Python for Everyone to Python for All using the replace method or other methods.\n",
    "kalimat = \"Python For Everyone\"\n",
    "print(kalimat)\n",
    "rubah = (kalimat.replace('Everyone', 'All'))\n",
    "print(rubah)\n",
    "# 13. Split the string 'Coding For All' using space as the separator (split()) .\n",
    "kalimat = \"Coding For All\"\n",
    "split = (kalimat.split())\n",
    "print(split)\n",
    "split = (kalimat.split(', ')) #menghilangkan koma\n",
    "print(split)"
   ]
  },
  {
   "cell_type": "code",
   "execution_count": 86,
   "id": "d822061e",
   "metadata": {},
   "outputs": [
    {
     "name": "stdout",
     "output_type": "stream",
     "text": [
      "['Facebook', 'Google', 'Microsoft', 'Apple', 'IBM', 'Oracle', 'Amazon']\n",
      "Character pertama dalam Coding For All Adalah = C\n",
      "Index Terakhirnya adalah = l\n",
      "Indeks ke-10 dalam Coding For All adalah =  \n"
     ]
    }
   ],
   "source": [
    "# 14. \"Facebook, Google, Microsoft, Apple, IBM, Oracle, Amazon\" split the string at the comma.\n",
    "kalimat = \"Facebook, Google, Microsoft, Apple, IBM, Oracle, Amazon\"\n",
    "split = (kalimat.split(', '))\n",
    "print(split)\n",
    "# 15. What is the character at index 0 in the string Coding For All.\n",
    "kata = \"Coding For All\"\n",
    "kata2 = kata[0]\n",
    "print(\"Character pertama dalam Coding For All Adalah =\", kata2)\n",
    "# 16. What is the last index of the string Coding For All.\n",
    "kata = 'Coding For All'\n",
    "indexterakhir = kata[-1]\n",
    "print(\"Index Terakhirnya adalah =\", indexterakhir)\n",
    "# 17. What character is at index 10 in \"Coding For All\" string.\n",
    "kalimat = \"Coding For All\"\n",
    "cekindeks = kalimat[10]\n",
    "print(\"Indeks ke-10 dalam Coding For All adalah =\", cekindeks)"
   ]
  },
  {
   "cell_type": "code",
   "execution_count": 87,
   "id": "5a1f723a",
   "metadata": {},
   "outputs": [
    {
     "name": "stdout",
     "output_type": "stream",
     "text": [
      "Singkatan dari Python For Everyone adalah = PFE\n",
      "Singkatan dari Python For Everyone adalah = CFA\n",
      "C\n"
     ]
    }
   ],
   "source": [
    "# 18. Create an acronym or an abbreviation for the name 'Python For Everyone'.\n",
    "kalimat = \"Pyhton For Everyone\"\n",
    "singkatan = kalimat[0]\n",
    "singkatan2 = kalimat[7]\n",
    "singkatan3 = kalimat[11]\n",
    "print(\"Singkatan dari Python For Everyone adalah =\", singkatan + singkatan2 + singkatan3)\n",
    "# 19. Create an acronym or an abbreviation for the name 'Coding For All'.\n",
    "kalimat = \"Coding For All\"\n",
    "singkatan = kalimat[0]\n",
    "singkatan2 = kalimat[7]\n",
    "singkatan3 = kalimat[11]\n",
    "print(\"Singkatan dari Python For Everyone adalah =\", singkatan + singkatan2 + singkatan3)\n",
    "# 20. Use index to determine the position of the first occurrence of C in Coding For All.\n",
    "kalimat = \"Coding For All\"\n",
    "munculkanC = kalimat[0]\n",
    "print(munculkanC)"
   ]
  },
  {
   "cell_type": "code",
   "execution_count": 88,
   "id": "4060c490",
   "metadata": {},
   "outputs": [
    {
     "name": "stdout",
     "output_type": "stream",
     "text": [
      "F\n",
      "19\n",
      "31\n",
      "47\n",
      "because because because \n"
     ]
    }
   ],
   "source": [
    "# 21. Use index to determine the position of the first occurrence of F in Coding For All.\n",
    "munculkanF = kalimat[7]\n",
    "print(munculkanF)\n",
    "# 22. Use rfind to determine the position of the last occurrence of l in Coding For All People.\n",
    "kalimat = \"Coding For All People\"\n",
    "print(kalimat.rfind('l'))\n",
    "\"\"\" 23. Use index or find to find the position of the first occurrence of the word \n",
    "'because' in the following sentence: 'You cannot end a sentence with because is a conjunction\"\"\"\n",
    "kalimat = \"You cannot end a sentence with because because because is a cunjunction\"\n",
    "print(kalimat.find('because'))\n",
    "# 24. rindex or rfind\n",
    "print(kalimat.rfind('because'))\n",
    "# 25. Slice out the phrase 'because because because' in the following sentence: 'You cannot end a sentence with because because because is a conjunction'\n",
    "potongbecause = kalimat[31:55]\n",
    "print(potongbecause)"
   ]
  },
  {
   "cell_type": "code",
   "execution_count": 89,
   "id": "15286811",
   "metadata": {},
   "outputs": [
    {
     "name": "stdout",
     "output_type": "stream",
     "text": [
      "31\n",
      "Apakah benar Coding adalah kata pertama = True\n",
      "Apakah benar Coding adalah kata terakhir = False\n",
      "  Coding For All  \n",
      "Coding For All\n"
     ]
    }
   ],
   "source": [
    "# 26. Find the position of the first occurrence of the word 'because' in the following sentence: 'You cannot end a sentence with because because because is a conjunction'\n",
    "kalimat = \"You cannot end a sentence with because because because is a cunjunction\"\n",
    "print(kalimat.find('because'))\n",
    "# 27 dan 25 pertanyaanya sama.\n",
    "#28. Does ''Coding For All' start with a substring Coding?\n",
    "kalimat = \"Coding For All\".startswith('Coding')\n",
    "print(\"Apakah benar Coding adalah kata pertama =\", str(kalimat))\n",
    "# 29. Does 'Coding For All' end with a substring coding?\n",
    "kalimat = \"Coding For All\".endswith('Coding')\n",
    "print(\"Apakah benar Coding adalah kata terakhir =\", str(kalimat))\n",
    "# 30. '   Coding For All      '  , remove the left and right trailing spaces in the given string.\n",
    "kalimat = \"  Coding For All  \"\n",
    "print(kalimat)\n",
    "print(kalimat.strip())"
   ]
  },
  {
   "cell_type": "code",
   "execution_count": 103,
   "id": "34aab697",
   "metadata": {},
   "outputs": [
    {
     "name": "stdout",
     "output_type": "stream",
     "text": [
      "Apakah kalimat pertama indentifer = False\n",
      "Apakah kalimat kedua indentifer = True\n",
      "Django Flash Bottle Pyramid Falcon\n",
      "I am enjoying this challenge.\n",
      "I just wonder what is next.\n",
      "Nama\t  Age\t Country  City\n",
      "Asabeneh  250\t Finland  Helsinki\n"
     ]
    }
   ],
   "source": [
    "# 31. Which one of the following variables return True when we use the method isidentifier():\n",
    "    # 30DaysOfPython\n",
    "    # thirty_days_of_python\n",
    "kalimat = \"30DaysOfPyhton\"\n",
    "kalimat2 = \"thirty_days_of_python\"\n",
    "apakahisidentifier = kalimat.isidentifier()\n",
    "print (\"Apakah kalimat pertama indentifer =\", apakahisidentifier)\n",
    "apakahisidentifier = kalimat2.isidentifier()\n",
    "print (\"Apakah kalimat kedua indentifer =\", apakahisidentifier)\n",
    "\n",
    "\"\"\"32. The following list contains the names of some of \n",
    "python libraries: ['Django', 'Flask', 'Bottle', 'Pyramid', 'Falcon']. Join the list with a hash with space string.\"\"\"\n",
    "daftarpython = ['Django', 'Flash', 'Bottle', 'Pyramid', 'Falcon']\n",
    "join = ' '.join(daftarpython)\n",
    "print(join)\n",
    "\n",
    "# 33. Use the new line escape sequence to separate the following sentences.\n",
    "    # I am enjoying this challenge.\n",
    "    # I just wonder what is next.\n",
    "print(\"I am enjoying this challenge.\\nI just wonder what is next.\")\n",
    "\n",
    "# 34. Use a tab escape sequence to write the following lines.\n",
    "    # Name      Age     Country   City\n",
    "    # Asabeneh  250     Finland   Helsinki\n",
    "print(\"Nama\\t  Age\\t Country  City\\nAsabeneh  250\\t Finland  Helsinki\")"
   ]
  },
  {
   "cell_type": "code",
   "execution_count": 112,
   "id": "df47b484",
   "metadata": {},
   "outputs": [
    {
     "name": "stdout",
     "output_type": "stream",
     "text": [
      "Jari jari = 10\n",
      "Luas sebuah lingkaran adalah 314.0 meterpersegi\n",
      "8 + 6 14\n",
      "8 - 6 2\n",
      "8 x 6 48\n",
      "8 / 6 1.3333333333333333\n",
      "8 % 6 2\n",
      "8 // 6 1\n",
      "8 ** 6 262144\n"
     ]
    }
   ],
   "source": [
    "# 35. Use the string formatting method to display the following:\n",
    "# radius = 10\n",
    "# area = 3.14 * radius ** 2\n",
    "# The area of a circle with radius 10 is 314 meters square.\n",
    "jarijari = 10\n",
    "luaslingkaran = 3.14 *jarijari**2\n",
    "print(\"Jari jari =\", jarijari)\n",
    "print(f\"Luas sebuah lingkaran adalah {luaslingkaran} meterpersegi\")\n",
    "# 36. Make the following using string formatting methods:\n",
    "# 8 + 6 = 14\n",
    "# 8 - 6 = 2\n",
    "# 8 * 6 = 48\n",
    "# 8 / 6 = 1.33\n",
    "# 8 % 6 = 2\n",
    "# 8 // 6 = 1\n",
    "# 8 ** 6 = 262144\n",
    "angka1 = 8\n",
    "angka2 = 6\n",
    "tambah = angka1 + angka2\n",
    "kurang = angka1 - angka2\n",
    "kali = angka1 * angka2\n",
    "bagi = angka1 / angka2\n",
    "modulus = angka1 % angka2\n",
    "floor_division = angka1 // angka2\n",
    "pangkat = angka1 ** angka2\n",
    "print(f\"8 + 6 {tambah}\")\n",
    "print(f\"8 - 6 {kurang}\")\n",
    "print(f\"8 x 6 {kali}\")\n",
    "print(f\"8 / 6 {bagi}\")\n",
    "print(f\"8 % 6 {modulus}\")\n",
    "print(f\"8 // 6 {floor_division}\")\n",
    "print(f\"8 ** 6 {pangkat}\")"
   ]
  },
  {
   "cell_type": "code",
   "execution_count": null,
   "id": "fe88ac6d",
   "metadata": {},
   "outputs": [],
   "source": []
  }
 ],
 "metadata": {
  "kernelspec": {
   "display_name": "Python 3 (ipykernel)",
   "language": "python",
   "name": "python3"
  },
  "language_info": {
   "codemirror_mode": {
    "name": "ipython",
    "version": 3
   },
   "file_extension": ".py",
   "mimetype": "text/x-python",
   "name": "python",
   "nbconvert_exporter": "python",
   "pygments_lexer": "ipython3",
   "version": "3.9.13"
  }
 },
 "nbformat": 4,
 "nbformat_minor": 5
}
