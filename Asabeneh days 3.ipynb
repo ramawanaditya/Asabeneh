{
 "cells": [
  {
   "cell_type": "code",
   "execution_count": null,
   "id": "14db4365",
   "metadata": {},
   "outputs": [],
   "source": [
    "#nomer 1 2 3\n",
    "umur = int(input(\"Masukkana Umur Anda :\"))\n",
    "tinggi = float(input(\"Masukkan Tinggi Anda :\"))\n",
    "komplekssatu = float(input(\"Masukkan bilangan real :\"))\n",
    "kompleksdua = float(input(\"Masukkan bilangan imajiner :\"))\n",
    "bilangankompleks = complex(komplekssatu, kompleksdua)\n",
    "\n",
    "print(\"Umur saya sekarang adalah\", umur, type(umur))\n",
    "print(\"Tinggi saya sekarang adalah\", tinggi, type(tinggi))\n",
    "print(\"bilangan kompleksnya adalah\", bilangankompleks)"
   ]
  },
  {
   "cell_type": "code",
   "execution_count": null,
   "id": "d4b696de",
   "metadata": {},
   "outputs": [],
   "source": [
    "#nomer 4\n",
    "alas_segitiga = float(input(\"Masukkan alas segitiga :\"))\n",
    "tinggi_segitiga = float(input(\"Masukkan tinggi segitiga :\"))\n",
    "\n",
    "luas_segitiga = (0.5 * (alas_segitiga * tinggi_segitiga))\n",
    "print(\"Luas segitiganya adalah :\", luas_segitiga,  \"cm\")"
   ]
  },
  {
   "cell_type": "code",
   "execution_count": null,
   "id": "dade0011",
   "metadata": {},
   "outputs": [],
   "source": [
    "#nomer 5 hitung keliling segitiga\n",
    "a = float(input(\"Masukkan sisi a :\"))\n",
    "b = float(input(\"Masukkan sisi b :\"))\n",
    "c = float(input(\"Masukkan sisi b :\"))\n",
    "\n",
    "keliling = (a + b + c)\n",
    "print(\"Maka keliling segitiga adalah\", keliling, \"cm\")"
   ]
  },
  {
   "cell_type": "code",
   "execution_count": null,
   "id": "237276b3",
   "metadata": {},
   "outputs": [],
   "source": [
    "#nomer 6 luas dan keliling persegi panjang\n",
    "tinggi = float(input(\"Masukkan tingginya :\"))\n",
    "panjang = float(input(\"Masukkan panjangnya :\"))\n",
    "\n",
    "luas = (panjang * tinggi)\n",
    "keliling = 2 * (panjang + tinggi)\n",
    "\n",
    "print(\"Luas persegi panjangnya adalah :\", luas, \"cm\")\n",
    "print(\"Keliling persegi panjangnya adalah :\", keliling, \"cm\")"
   ]
  },
  {
   "cell_type": "code",
   "execution_count": null,
   "id": "5f9200d5",
   "metadata": {},
   "outputs": [],
   "source": [
    "#nomer 7 mencari keliling dan luas lingkaran\n",
    "jarijari = float(input(\"Masukkan jari jari lingkaran: \"))\n",
    "pi = 3.14\n",
    "\n",
    "luas = (pi * jarijari * jarijari)\n",
    "keliling = (pi * 2 * jarijari)\n",
    "\n",
    "print(\"Luas lingkarannya adalah :\", luas, \"cm\")\n",
    "print(\"Keliling lingkarannya adalah :\", keliling, \"cm\")\n",
    "                  "
   ]
  },
  {
   "cell_type": "code",
   "execution_count": 2,
   "id": "1b03ffd1",
   "metadata": {},
   "outputs": [
    {
     "name": "stdout",
     "output_type": "stream",
     "text": [
      "Kemiringan:  2\n",
      "X-intercept:  1.0\n",
      "Y-intercept:  -2\n",
      "\n",
      "Luas kemiringannya adalah : 2.0\n",
      "\n",
      "Jarak euclideannya adalah : 8.94427190999916\n"
     ]
    }
   ],
   "source": [
    "#nomer 8 Hitung gradien, titik potong x dan titik potong y dari y = 2x - 2\n",
    "a = 2\n",
    "b = -2\n",
    "\n",
    "#menghitung x-intercept\n",
    "x_intercept = -b/a\n",
    "\n",
    "#menghitung y-intercept\n",
    "y_intercept = b\n",
    "\n",
    "# mencetak hasil perhitungan\n",
    "print(\"Kemiringan: \", a)\n",
    "print(\"X-intercept: \", x_intercept)\n",
    "print(\"Y-intercept: \", y_intercept)\n",
    "\n",
    "print(\"\")\n",
    "#nomer 9 Kemiringan adalah (m = y2-y1/x2-x1). Tentukan kemiringan dan jarak Euclidean antara titik (2, 2) dan titik (6,10)\n",
    "x1 = 2\n",
    "y1 = 2\n",
    "x2 = 6\n",
    "y2 = 10\n",
    "#hitung luas kemiringan\n",
    "luaskemiringan = (y2-y1)/(x2-x1)\n",
    "\n",
    "print(\"Luas kemiringannya adalah :\", luaskemiringan)\n",
    "print(\"\")\n",
    "\n",
    "#jarak euclidean\n",
    "jarakeuclidean = ((y2-y1)**2 + (x2-x1)**2)**0.5\n",
    "print(\"Jarak euclideannya adalah :\", jarakeuclidean)\n",
    "\n",
    "\"\"\"nomer 10 bandingkan soal nomer 8 dan 9. Dalam task 8, slope adalah 2, sedangkan dalam task 9, slope juga adalah 2. \n",
    "Ini menunjukkan bahwa kedua garis memiliki kemiringan yang sama.\"\"\""
   ]
  },
  {
   "cell_type": "code",
   "execution_count": 18,
   "id": "58509929",
   "metadata": {},
   "outputs": [
    {
     "name": "stdout",
     "output_type": "stream",
     "text": [
      "y untuk x = 2: 25\n",
      "y untuk x = -3: 0\n"
     ]
    }
   ],
   "source": [
    "# nomer 11 Hitung nilai y (y = x^2 + 6x + 9). Cobalah untuk menggunakan nilai x yang berbeda dan cari tahu berapa nilai x y yang akan menjadi 0.\n",
    "# Menghitung y untuk nilai x tertentu\n",
    "def hitung_y(x):\n",
    "    y = x**2 + 6*x + 9\n",
    "    return y\n",
    "\n",
    "# Contoh penggunaan\n",
    "print(\"y untuk x = 2:\", hitung_y(2))\n",
    "print(\"y untuk x = -3:\", hitung_y(-3))\n",
    "# cara mengetahui bagaimana hasil x y = 0 adalah -3 ada dibawah ini\n",
    "\"\"\"Dalam persamaan y = x^2 + 6x + 9, untuk mengetahui nilai x yang membuat y = 0, kita dapat menyelesaikan persamaan kuadrat tersebut untuk x menggunakan rumus kuadrat:\n",
    "\n",
    "x = (-b ± √(b^2 - 4ac)) / 2a\n",
    "\n",
    "Dalam hal ini, a = 1, b = 6, dan c = 9. Sehingga:\n",
    "\n",
    "x = (-6 ± √(6^2 - 4(1)(9))) / 2(1)\n",
    "\n",
    "x = (-6 ± 0) / 2\n",
    "\n",
    "x1 = -3 dan x2 = -3\n",
    "\n",
    "Jadi, nilai x yang membuat y = 0 dalam persamaan tersebut adalah -3.\"\"\""
   ]
  },
  {
   "cell_type": "code",
   "execution_count": 55,
   "id": "fe1699b3",
   "metadata": {},
   "outputs": [
    {
     "name": "stdout",
     "output_type": "stream",
     "text": [
      "Aku adalah :python\n",
      "Aku adalah :dragon\n",
      "Aku adalah : python Panjang namaku : 6\n",
      "Aku adalah : dragon Panjang namaku : 6\n",
      "Panjangku tidak sama dengan : True\n",
      "\n",
      "Pernyataan perbandingan adalah True\n"
     ]
    }
   ],
   "source": [
    "#nomer 12 Temukan panjang 'python' dan 'dragon' dan buat pernyataan perbandingan False.\n",
    "a = str(input(\"Aku adalah :\"))\n",
    "b = str(input(\"Aku adalah :\"))\n",
    "\n",
    "print(\"Aku adalah :\", a, \"Panjang namaku :\", len(a))\n",
    "print(\"Aku adalah :\", b, \"Panjang namaku :\", len(b))\n",
    "print(\"Panjangku tidak sama dengan :\", len(a)!=(len(b)))\n",
    "\n",
    "print(\"\")\n",
    "word1 = \"python\"\n",
    "word2 = \"dragon\"\n",
    "\n",
    "if len(word1) == len(word2):\n",
    "    print(\"Pernyataan perbandingan adalah True\")\n",
    "else:\n",
    "    print(\"Pernyataan perbandingan adalah False\")"
   ]
  },
  {
   "cell_type": "code",
   "execution_count": 23,
   "id": "a201e134",
   "metadata": {},
   "outputs": [
    {
     "name": "stdout",
     "output_type": "stream",
     "text": [
      "Both 'python' and 'dragon' contain the substring 'on'\n"
     ]
    }
   ],
   "source": [
    "#nomer 13 Gunakan dan operator 'if' untuk memeriksa apakah 'on' ditemukan di 'python' dan 'dragon'\n",
    "if 'on' in 'python' and 'on' in 'dragon':\n",
    "    print(\"Both 'python' and 'dragon' contain the substring 'on'\")\n",
    "else:\n",
    "    print(\"The substring 'on' is not the present 'python' and 'dragon'\")"
   ]
  },
  {
   "cell_type": "code",
   "execution_count": 1,
   "id": "664abc82",
   "metadata": {},
   "outputs": [
    {
     "name": "stdout",
     "output_type": "stream",
     "text": [
      "The word 'jargon' is not present in the substring\n"
     ]
    }
   ],
   "source": [
    "#nomer 14 'I hope this course is not full of jargon'. Gunakan operator untuk memeriksa apakah jargon ada dalam kalimat.\n",
    "kalimat = \"I hope this course is not full of jargon\"\n",
    "if 'Jargon' in kalimat:\n",
    "    print(\"The word 'jargon' is present in the substring\")\n",
    "else:\n",
    "    print(\"The word 'jargon' is not present in the substring\")"
   ]
  },
  {
   "cell_type": "code",
   "execution_count": 4,
   "id": "1dd4aa03",
   "metadata": {},
   "outputs": [
    {
     "name": "stdout",
     "output_type": "stream",
     "text": [
      "Kata 'on' tidak ada dalam pyhton dan dragon\n"
     ]
    }
   ],
   "source": [
    "#nomer 15 There is no 'on' in both dragon and python\n",
    "kalimat = \"dragon and python\"\n",
    "if 'on' not in kalimat:\n",
    "    print(\"Kata 'on' ada dalam python dan dragon\")\n",
    "else:\n",
    "    print(\"Kata 'on' tidak ada dalam pyhton dan dragon\")\n"
   ]
  },
  {
   "cell_type": "code",
   "execution_count": 44,
   "id": "ae432205",
   "metadata": {},
   "outputs": [
    {
     "name": "stdout",
     "output_type": "stream",
     "text": [
      "The length of the text 'python' is: 6.0\n"
     ]
    }
   ],
   "source": [
    "#nomer 16 Find the length of the text python and convert the value to float and convert it to string\n",
    "text = 'python'\n",
    "length = len(text)\n",
    "float_length = float(length)\n",
    "str_length = str(float_length)\n",
    "print(\"The length of the text 'python' is:\", str_length)"
   ]
  },
  {
   "cell_type": "code",
   "execution_count": 49,
   "id": "5d8704a6",
   "metadata": {},
   "outputs": [
    {
     "name": "stdout",
     "output_type": "stream",
     "text": [
      "Input our number : 6\n",
      "6 is even\n"
     ]
    }
   ],
   "source": [
    "#nomer 17 Even numbers are divisible by 2 and the remainder is zero. How do you check if a number is even or not using python?\n",
    "number = int(input(\"Input our number : \"))\n",
    "if number % 2 == 0 :\n",
    "    print(number, \"is even\")\n",
    "else:\n",
    "    print(number, \"is odd\")"
   ]
  },
  {
   "cell_type": "code",
   "execution_count": 50,
   "id": "b58a4bef",
   "metadata": {},
   "outputs": [
    {
     "name": "stdout",
     "output_type": "stream",
     "text": [
      "The floor division of 7 by 3 is equal to the int converted value of 2.7\n"
     ]
    }
   ],
   "source": [
    "#nomer 18 Check if the floor division of 7 by 3 is equal to the int converted value of 2.7.\n",
    "x = 7 // 3\n",
    "y = int(2.7)\n",
    "if x == y:\n",
    "    print(\"The floor division of 7 by 3 is equal to the int converted value of 2.7\")\n",
    "else:\n",
    "    print(\"the floor division of 7 by 3 is not equal to the int converted value of 2.7\")\n",
    "    \n",
    "\"\"\"In this code, we first use the floor division operator (//) to get the floor division of 7 by 3, which is 2. \n",
    "We then use the int function to convert 2.7 to an integer, which is also 2. \n",
    "Finally, we compare the two values using an if statement, and print a message depending on whether they are equal or not. \n",
    "Since the floor division of 7 by 3 is equal to the integer value of 2.7, the output is \n",
    "\"The floor division of 7 by 3 is equal to the integer value of 2.7\".\"\"\""
   ]
  },
  {
   "cell_type": "code",
   "execution_count": 58,
   "id": "c1f76b93",
   "metadata": {},
   "outputs": [
    {
     "name": "stdout",
     "output_type": "stream",
     "text": [
      "the type of '10' is equal to type of 10\n"
     ]
    }
   ],
   "source": [
    "#nomer 19 Check if type of '10' is equal to type of 10\n",
    "x = 10\n",
    "y = 10\n",
    "if x == y:\n",
    "    print(\"the type of '10' is equal to type of 10\")\n",
    "else:\n",
    "    print(\"the type of '10' is not equal to type of 10\")"
   ]
  },
  {
   "cell_type": "code",
   "execution_count": 59,
   "id": "20759438",
   "metadata": {},
   "outputs": [
    {
     "name": "stdout",
     "output_type": "stream",
     "text": [
      "9\n",
      "the int('9.8') is not equal to 10\n"
     ]
    }
   ],
   "source": [
    "#nomer 20 Check if int('9.8') is equal to 10\n",
    "x = int(9.8)\n",
    "y = 10\n",
    "print(x)\n",
    "if x == y:\n",
    "    print(\"the int('9.8') is equal to 10\")\n",
    "else:\n",
    "    print(\"the int('9.8') is not equal to 10\")"
   ]
  },
  {
   "cell_type": "code",
   "execution_count": 60,
   "id": "438e9e34",
   "metadata": {},
   "outputs": [
    {
     "name": "stdout",
     "output_type": "stream",
     "text": [
      "Hours : 40\n",
      "Rate per hours : 28\n",
      "Your weekly earning :  1120.0\n"
     ]
    }
   ],
   "source": [
    "#nomer 21 Write a script that prompts the user to enter hours and rate per hour. Calculate pay of the person?\n",
    "jamkerja = float(input(\"Hours : \"))\n",
    "pendapatan = float(input(\"Rate per hours : \"))\n",
    "result = jamkerja*pendapatan\n",
    "print(\"Your weekly earning : \", result)"
   ]
  },
  {
   "cell_type": "code",
   "execution_count": 66,
   "id": "2d11bf99",
   "metadata": {},
   "outputs": [
    {
     "name": "stdout",
     "output_type": "stream",
     "text": [
      "Berapakah umur kamu :100\n",
      "hasil dari 1 hari berapa detik adalah =  86400\n",
      "Hasil dari 1 tahun berapa detik adalah =  31536000\n",
      "Umur saya adalah : \n",
      "kamu telah hidup :  3153600000 Detik\n"
     ]
    }
   ],
   "source": [
    "#nomer 22 Write a script that prompts the user to enter number of years. Calculate the number of seconds a person can live. Assume a person can live hundred years\n",
    "umur = int(input(\"Berapakah umur kamu :\"))\n",
    "satuhari = 3600 * 24\n",
    "print(\"hasil dari 1 hari berapa detik adalah = \", satuhari)\n",
    "satutahun = satuhari * 365\n",
    "print(\"Hasil dari 1 tahun berapa detik adalah = \", satutahun)\n",
    "hasil = satutahun * umur\n",
    "print(\"Umur saya adalah : \")\n",
    "print(\"kamu telah hidup : \", hasil, \"Detik\")"
   ]
  },
  {
   "cell_type": "code",
   "execution_count": null,
   "id": "ccc0fb70",
   "metadata": {},
   "outputs": [],
   "source": [
    "#nomer 23 Write a Python script that displays the following table"
   ]
  }
 ],
 "metadata": {
  "kernelspec": {
   "display_name": "Python 3 (ipykernel)",
   "language": "python",
   "name": "python3"
  },
  "language_info": {
   "codemirror_mode": {
    "name": "ipython",
    "version": 3
   },
   "file_extension": ".py",
   "mimetype": "text/x-python",
   "name": "python",
   "nbconvert_exporter": "python",
   "pygments_lexer": "ipython3",
   "version": "3.9.13"
  }
 },
 "nbformat": 4,
 "nbformat_minor": 5
}
