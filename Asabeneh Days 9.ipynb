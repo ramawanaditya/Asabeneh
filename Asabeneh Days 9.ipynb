{
 "cells": [
  {
   "cell_type": "code",
   "execution_count": null,
   "id": "69c45341",
   "metadata": {},
   "outputs": [],
   "source": [
    "# Exercise 1\n",
    "# No. 1\n",
    "age = int(input(\"Masukkan Umur kamu = \"))\n",
    "if age > 18:\n",
    "    print(\"You are old enough to learn to drive.\")\n",
    "elif age == 18:\n",
    "    print(\"Selamat! Umur kamu cocok untuk belajar mengemudi\")\n",
    "else:\n",
    "    print(\"You need more years to learn to drive.\")"
   ]
  },
  {
   "cell_type": "code",
   "execution_count": null,
   "id": "7317bfd1",
   "metadata": {},
   "outputs": [],
   "source": [
    "# No. 2 Compare the values of my_age and your_age using if … else. Who is older (me or you)? \n",
    "# Use input(“Enter your age: ”) to get the age as input. You can use a nested condition to print 'year' for 1 year \n",
    "# difference in age, 'years' for bigger differences, and a custom text if my_age = your_age.\n",
    "my_age = int(input(\"Enter Your Age : \"))\n",
    "your_age = 25\n",
    "\n",
    "if my_age > your_age:\n",
    "    perbedaanumur = my_age - your_age\n",
    "    if perbedaanumur == 1:\n",
    "        print(\"I am\", perbedaanumur, \"year older than you.\")\n",
    "    else:\n",
    "        print(\"I am\", perbedaanumur, \"years older than you.\")\n",
    "elif my_age == your_age:\n",
    "    print(\"We are the same age!\")\n",
    "else:\n",
    "    perbedaanumur = your_age - my_age\n",
    "    if perbedaanumur == 1:\n",
    "        print(\"You are\", perbedaanumur, \"year younger than me.\")\n",
    "    else:\n",
    "        print(\"You are\", perbedaanumur, \"years younger than me.\")"
   ]
  },
  {
   "cell_type": "code",
   "execution_count": null,
   "id": "7065ffae",
   "metadata": {},
   "outputs": [],
   "source": [
    "# No. 3 Get two numbers from the user using input prompt. If a is greater than b return a is greater than b, \n",
    "# if a is less b return a is smaller than b, else a is equal to b.\n",
    "a = int(input(\"Masukkan angka A : \"))\n",
    "b = int(input(\"Masukkan angka B : \"))\n",
    "\n",
    "if a > b:\n",
    "    print (a, \"is greater than\", b)\n",
    "elif a < b:\n",
    "    print(a, \"is less than\", b)\n",
    "else:\n",
    "    print(\"A sama dengan B\")"
   ]
  },
  {
   "cell_type": "code",
   "execution_count": null,
   "id": "110e14aa",
   "metadata": {},
   "outputs": [],
   "source": [
    "# Exercise 2\n",
    "# No. 1\n",
    "score = float(input(\"Masukkan Nilai : \"))\n",
    "if score >= 80 and score <= 100:\n",
    "    grade = 'A'\n",
    "elif score >= 70 and score <= 79:\n",
    "    grade = 'B'\n",
    "elif score >= 60 and score <= 69:\n",
    "    grade = 'C'\n",
    "elif score >= 50 and score <= 59:\n",
    "    grade = 'D'\n",
    "elif score >= 0 and score <= 49:\n",
    "    grade = 'F'\n",
    "else:\n",
    "    grade = 'Invalid score'\n",
    "    \n",
    "print(\"The student's grade is:\", grade)"
   ]
  },
  {
   "cell_type": "code",
   "execution_count": null,
   "id": "c3ad76e0",
   "metadata": {},
   "outputs": [],
   "source": [
    "# No. 2\n",
    "musimgugur = \"September\", \"Oktober\", \"November\"\n",
    "musimdingin = \"Desember\", \"Januari\", \"Februari\"\n",
    "musimsemi = \"Maret\", \"April\", \"Mei\"\n",
    "musimpanas = \"Juni\", \"Juli\", \"Agustus\"\n",
    "\n",
    "bulan = str(input(\"Masukkan bulan : \"))\n",
    "if bulan in musimgugur:\n",
    "    result = 'Musim Gugur'\n",
    "elif bulan in musimdingin:\n",
    "    result = 'Musim Dingin'\n",
    "elif bulan in musimsemi:\n",
    "    result = 'Musim Semi'\n",
    "elif bulan in musimpanas:\n",
    "    result = 'Musim Panas'\n",
    "else:\n",
    "    result = 'Invalid Input'\n",
    "\n",
    "print(f\"The weather is {result}\")"
   ]
  },
  {
   "cell_type": "code",
   "execution_count": null,
   "id": "919868af",
   "metadata": {},
   "outputs": [],
   "source": [
    "# No. 3 If a fruit doesn't exist in the list add the fruit to the list and print the modified list. \n",
    "# If the fruit exists print('That fruit already exist in the list')\n",
    "fruits = ['banana', 'orange', 'mango', 'lemon']\n",
    "\n",
    "fruit = input(\"Enter a fruit: \")\n",
    "\n",
    "if fruit in fruits:\n",
    "    print(\"That fruit already exists in the list.\")\n",
    "else:\n",
    "    fruits.append(fruit)\n",
    "    print(\"The fruit\", fruit, \"has been added to the list.\")\n",
    "\n",
    "print(\"The updated list of fruits is:\", fruits)"
   ]
  },
  {
   "cell_type": "code",
   "execution_count": null,
   "id": "be4c3e3f",
   "metadata": {},
   "outputs": [],
   "source": [
    "# Exercise level 3\n",
    "person = {\n",
    "    'first_name': 'Ramawan',\n",
    "    'last_name': 'Aditya',\n",
    "    'age': 22,\n",
    "    'country': 'Indonesia',\n",
    "    'is_marred': False,\n",
    "    'skills': ['JavaScript', 'React', 'Node', 'MongoDB', 'Python'],\n",
    "    'address': 'Menanggal'\n",
    "    }\n",
    "# Check if the person dictionary has skills key, if so print out the middle skill in the skills list.\n",
    "kemampuan = person.get('skills')\n",
    "print(kemampuan)\n",
    "middlesindex = len(kemampuan)//2\n",
    "middlekemampuan = kemampuan[middlesindex:middlesindex+1]\n",
    "print (middlekemampuan)\n",
    "\n",
    "# Check if the person dictionary has skills key, if so check if the person has 'Python' skill and print out the result.\n",
    "\n",
    "skill = str(input(\"Masukkan skills = \"))\n",
    "if skill in kemampuan:\n",
    "    print(\"You have this skill\")\n",
    "else:\n",
    "    print(\"You not have this skill\")\n",
    "\n",
    "# If a person skills has only JavaScript and React, print('He is a front end developer'), if the person skills has Node, Python,\n",
    "# MongoDB, print('He is a backend developer'), if the person skills has React, Node and MongoDB, \n",
    "# Print('He is a fullstack developer'), else print('unknown title') - for more accurate results more conditions can be nested!\n",
    "skills = input(\"Enter a comma-separated list of skills: \").split(\",\")\n",
    "\n",
    "if set(['JavaScript', 'React']).issubset(skills):\n",
    "    print(\"He is a front-end developer.\")\n",
    "elif set(['Node', 'Python', 'MongoDB']).issubset(skills):\n",
    "    print(\"He is a back-end developer.\")\n",
    "elif set(['React', 'Node', 'MongoDB']).issubset(skills):\n",
    "    print(\"He is a full-stack developer.\")\n",
    "else:\n",
    "    print(\"Unknown title.\")"
   ]
  },
  {
   "cell_type": "code",
   "execution_count": 3,
   "id": "259be1f8",
   "metadata": {},
   "outputs": [
    {
     "name": "stdout",
     "output_type": "stream",
     "text": [
      "Ramawan Aditya lives in Indonesia he is married False\n"
     ]
    }
   ],
   "source": [
    "# If the person is married and if he lives in Finland, print the information in the following format:\n",
    "person = {\n",
    "    'first_name': 'Ramawan',\n",
    "    'last_name': 'Aditya',\n",
    "    'age': 22,\n",
    "    'country': 'Indonesia',\n",
    "    'is_married': False,\n",
    "    'skills': ['JavaScript', 'React', 'Node', 'MongoDB', 'Python'],\n",
    "    'address': 'Menanggal'\n",
    "    }\n",
    "if person['is_married'] == False and person['country'] == 'Indonesia':\n",
    "    print(f\"{person['first_name']} {person['last_name']} lives in {person['country']} he is married {person['is_married']}\")"
   ]
  },
  {
   "cell_type": "code",
   "execution_count": null,
   "id": "dbc3b3c5",
   "metadata": {},
   "outputs": [],
   "source": []
  }
 ],
 "metadata": {
  "kernelspec": {
   "display_name": "Python 3 (ipykernel)",
   "language": "python",
   "name": "python3"
  },
  "language_info": {
   "codemirror_mode": {
    "name": "ipython",
    "version": 3
   },
   "file_extension": ".py",
   "mimetype": "text/x-python",
   "name": "python",
   "nbconvert_exporter": "python",
   "pygments_lexer": "ipython3",
   "version": "3.9.13"
  }
 },
 "nbformat": 4,
 "nbformat_minor": 5
}
