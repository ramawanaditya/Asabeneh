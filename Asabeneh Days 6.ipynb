{
 "cells": [
  {
   "cell_type": "code",
   "execution_count": 12,
   "id": "b854cd7d",
   "metadata": {},
   "outputs": [
    {
     "name": "stdout",
     "output_type": "stream",
     "text": [
      "('Herlambang', 'Tanjung', 'Nazifa', 'Nanda')\n",
      "Berapa banyak saudaraku = 4\n",
      "('Herlambang', 'Tanjung', 'Nazifa', 'Nanda', 'Hariyanto', 'Yayuk')\n"
     ]
    }
   ],
   "source": [
    "# No. 1 Create an empty tuple\n",
    "emptytuples = ()\n",
    "# No. 2 Create a tuple containing names of your sisters and your brothers (imaginary siblings are fine)\n",
    "namestuples = ('Ramawan', 'Andreas', 'Aldino', 'Ashraf')\n",
    "# No. 3 Join brothers and sisters tuples and assign it to siblings\n",
    "brother = ('Herlambang', 'Tanjung')\n",
    "sister = ('Nazifa', 'Nanda')\n",
    "saudara = brother + sister\n",
    "print(saudara)\n",
    "# No. 4 How many siblings do you have?\n",
    "print(f\"Berapa banyak saudaraku = {len(saudara)}\")\n",
    "# No. 5 Modify the siblings tuple and add the name of your father and mother and assign it to family_members\n",
    "parents = ('Hariyanto', 'Yayuk')\n",
    "family_members = saudara + parents\n",
    "print(family_members)\n",
    "# Exercise 2\n",
    "# No 1 Unpack siblings and parents from family_members\n",
    "del family_members"
   ]
  },
  {
   "cell_type": "code",
   "execution_count": 27,
   "id": "3184420a",
   "metadata": {},
   "outputs": [
    {
     "name": "stdout",
     "output_type": "stream",
     "text": [
      "('Apple', 'Mango', 'Carrot', 'Cabagge', 'Tiger', 'Lion')\n",
      "['Apple', 'Mango', 'Carrot', 'Cabagge', 'Tiger', 'Lion']\n",
      "Keluarkan nama tengah yang ada di list tersebut = ['Cabagge', 'Tiger']\n",
      "['Apple', 'Mango', 'Carrot']\n",
      "['Cabagge', 'Tiger', 'Lion']\n"
     ]
    }
   ],
   "source": [
    "# Exercise 2\n",
    "# No. 2 Create fruits, vegetables and animal products tuples. Join the three tuples and assign it to a variable called food_stuff_tp.\n",
    "fruits = ('Apple', 'Mango')\n",
    "vegetables = ('Carrot', 'Cabagge')\n",
    "animals = ('Tiger', 'Lion')\n",
    "food_stuff_tp = fruits + vegetables + animals\n",
    "print(food_stuff_tp) \n",
    "# No. 3 Change the about food_stuff_tp tuple to a food_stuff_lt list\n",
    "food_stuff_lt = list(food_stuff_tp)\n",
    "print(food_stuff_lt)\n",
    "# No. 4 Slice out the middle item or items from the food_stuff_tp tuple or food_stuff_lt list.\n",
    "middle_index = len(food_stuff_lt)//2\n",
    "middleout = food_stuff_lt[middle_index:middle_index+2]\n",
    "print(f\"Keluarkan nama tengah yang ada di list tersebut = {middleout}\")\n",
    "# No. 5 Slice out the first three items and the last three items from food_staff_lt list\n",
    "itemfirst = food_stuff_lt[0:3]\n",
    "print(itemfirst)\n",
    "itemsecond = food_stuff_lt[3:6]\n",
    "print(itemsecond)\n",
    "# No. Delete the food_staff_tp tuple completely\n",
    "del food_stuff_tp"
   ]
  },
  {
   "cell_type": "code",
   "execution_count": 29,
   "id": "a87c289e",
   "metadata": {},
   "outputs": [
    {
     "name": "stdout",
     "output_type": "stream",
     "text": [
      "Estonia adalah bukan bagian dari Nordic\n",
      "Iceland adalah bagian dari Nordic\n"
     ]
    }
   ],
   "source": [
    "# Check if an item exists in tuple:\n",
    "# Check if 'Estonia' is a nordic country\n",
    "# Check if 'Iceland' is a nordic country\n",
    "nordic_countries = ('Denmark', 'Finland','Iceland', 'Norway', 'Sweden')\n",
    "if 'Estonia' in nordic_countries:\n",
    "    print(\"Estonia adalah bagian dari Nordic\")\n",
    "else:\n",
    "    print(\"Estonia adalah bukan bagian dari Nordic\")\n",
    "    \n",
    "if 'Iceland' in nordic_countries:\n",
    "    print(\"Iceland adalah bagian dari Nordic\")\n",
    "else:\n",
    "    print(\"Iceland adalah bukan bagian dari Nordic\")"
   ]
  },
  {
   "cell_type": "code",
   "execution_count": null,
   "id": "3bbed725",
   "metadata": {},
   "outputs": [],
   "source": []
  }
 ],
 "metadata": {
  "kernelspec": {
   "display_name": "Python 3 (ipykernel)",
   "language": "python",
   "name": "python3"
  },
  "language_info": {
   "codemirror_mode": {
    "name": "ipython",
    "version": 3
   },
   "file_extension": ".py",
   "mimetype": "text/x-python",
   "name": "python",
   "nbconvert_exporter": "python",
   "pygments_lexer": "ipython3",
   "version": "3.9.13"
  }
 },
 "nbformat": 4,
 "nbformat_minor": 5
}
