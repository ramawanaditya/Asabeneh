{
 "cells": [
  {
   "cell_type": "code",
   "execution_count": 5,
   "id": "d11af779",
   "metadata": {},
   "outputs": [
    {
     "name": "stdout",
     "output_type": "stream",
     "text": [
      "nilai jarak euclidian =  9.433981132056603\n"
     ]
    }
   ],
   "source": [
    "#Day 1 - 30 Learn Python By Asabeneh\n",
    "{\n",
    "    #dictionary\n",
    "    'first name' : 'Ramawan Aditya',\n",
    "    'Last name' : 'Maullana Putra',\n",
    "    'Country' : 'Indonesia',\n",
    "    'Age' : '22',\n",
    "    'is_married' : True,\n",
    "    'skills' : ['Photoshop','Illustrator','Graphic Design']\n",
    "}\n",
    "\"\"\"\n",
    "#Example Print\n",
    "print(2 + 3)             # addition(+)\n",
    "print(3 - 1)             # subtraction(-)\n",
    "print(2 * 3)             # multiplication(*)\n",
    "print(3 / 2)             # division(/)\n",
    "print(3 ** 2)            # exponential(**)\n",
    "print(3 % 2)             # modulus(%)\n",
    "print(3 // 2)            # Floor division operator(//)\n",
    "\n",
    "\n",
    "Checking data types\n",
    "print(type(10))          # Int\n",
    "print(type(3.14))        # Float\n",
    "print(type(1 + 3j))      # Complex number\n",
    "print(type('Asabeneh'))  # String\n",
    "print(type([1, 2, 3]))   # List\n",
    "print(type({'name':'Asabeneh'})) # Dictionary\n",
    "print(type({9.8, 3.14, 2.7}))    # Set\n",
    "print(type((9.8, 3.14, 2.7)))    # Tuple\n",
    "\n",
    "#exercise 1\n",
    "print(3 + 4)\n",
    "print(3 - 4)\n",
    "print(3 * 4)\n",
    "print(3 % 4)\n",
    "print(3 / 4)\n",
    "print(3 ** 4)\n",
    "print(3 // 4)\n",
    "\n",
    "#exercise 2\n",
    "myname = 'Ramawan Aditya'\n",
    "familyname = 'Maullana Putra'\n",
    "country = 'Indonesia'\n",
    "motivated = 'Im Enjoying 30 Days Of Python'\n",
    "\n",
    "print(myname)\n",
    "print(familyname)\n",
    "print(country)\n",
    "print(motivated)\n",
    "\n",
    "#exercise 3\n",
    "print(type(10))\n",
    "print(type(9.8))\n",
    "print(type(3.14))\n",
    "print(type(4-4j))\n",
    "print(type(['Ramawan','Learn Python 30 Days', 'Indonesia']))\n",
    "print(type('Ramawan'))\n",
    "print(type('Aditya'))\n",
    "print(type('Indonesia')) \"\"\"\n",
    "\n",
    "# Write an example for different Python data types such as Number(Integer, Float, Complex), String, Boolean, List, Tuple, Set and Dictionary.\n",
    "age = 22\n",
    "weight = 171.5\n",
    "x = 4 + 5j\n",
    "name = \"Ramawan\"\n",
    "is_student = True\n",
    "fruits = ['Banana', 'Watermelon']\n",
    "coordinate = (5,20)\n",
    "numbers = {1,2,3,4,5}\n",
    "Person = {'Nama':'Ramawan', 'Age':'22'}\n",
    "\n",
    "# Find an Euclidian distance between (2, 3) and (10, 8)\n",
    "x1, y1 = 2, 3\n",
    "x2, y2 = 10, 8\n",
    "\n",
    "distance = ((x2 -x1)**2 + (y2-y1)**2)** 0.5\n",
    "print(\"nilai jarak euclidian = \", distance)\n"
   ]
  },
  {
   "cell_type": "code",
   "execution_count": null,
   "id": "cddc9419",
   "metadata": {},
   "outputs": [],
   "source": []
  }
 ],
 "metadata": {
  "kernelspec": {
   "display_name": "Python 3 (ipykernel)",
   "language": "python",
   "name": "python3"
  },
  "language_info": {
   "codemirror_mode": {
    "name": "ipython",
    "version": 3
   },
   "file_extension": ".py",
   "mimetype": "text/x-python",
   "name": "python",
   "nbconvert_exporter": "python",
   "pygments_lexer": "ipython3",
   "version": "3.9.13"
  }
 },
 "nbformat": 4,
 "nbformat_minor": 5
}
