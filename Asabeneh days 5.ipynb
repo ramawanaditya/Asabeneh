{
 "cells": [
  {
   "cell_type": "code",
   "execution_count": 32,
   "id": "0a01bef4",
   "metadata": {},
   "outputs": [
    {
     "name": "stdout",
     "output_type": "stream",
     "text": [
      "Panjang listmu = 5\n",
      "Item Pertama = Mobil, Item Kedua = Sepeda Motor, Item Ketiga = Kereta\n",
      "['Ramawan', 22, 172, 'Single', 'Surabaya']\n"
     ]
    }
   ],
   "source": [
    "# exercise : level 1\n",
    "# No. 1 declare empty list\n",
    "kumpulan = []\n",
    "# No. 2 Declare a list with more than 5 items.\n",
    "kumpulan = [\"Mobil\", \"Sepeda\", \"Sepeda Motor\", \"Bus\", \"Kereta\"]\n",
    "# No. 3 Find the length of your list\n",
    "print(\"Panjang listmu =\", len(kumpulan))\n",
    "# No. 4 Get the first item, the middle item and the last item of the list\n",
    "ambilitem = kumpulan[0]\n",
    "ambilitem1 = kumpulan[2]\n",
    "ambilitem2 = kumpulan[4]\n",
    "print(f\"Item Pertama = {ambilitem}, Item Kedua = {ambilitem1}, Item Ketiga = {ambilitem2}\")\n",
    "# No. 5 Declare a list called mixed_data_types, put your(name, age, height, marital status, address)\n",
    "mixed_data_type = [\"Ramawan\", 22, 172, \"Single\", \"Surabaya\"]\n",
    "print(mixed_data_type)"
   ]
  },
  {
   "cell_type": "code",
   "execution_count": 31,
   "id": "7665e174",
   "metadata": {},
   "outputs": [
    {
     "name": "stdout",
     "output_type": "stream",
     "text": [
      "['Facebook', 'Google', 'Microsoft', 'Apple', 'IBM', 'Oracle', 'Amazon']\n",
      "Print Angka dari Companies = 7\n",
      "Item Pertama = Facebook, Item Kedua = Apple, Item Ketiga = Amazon\n",
      "Data Lama = ['Facebook', 'Google', 'Microsoft', 'Apple', 'IBM', 'Oracle', 'Amazon']\n",
      "Data Baru = ['Instagram', 'Google', 'Microsoft', 'Apple', 'IBM', 'Oracle', 'Amazon']\n",
      "['Facebook', 'Google', 'Microsoft', 'IT Company', 'Apple', 'IBM', 'Oracle', 'Amazon']\n",
      "['FACEBOOK', 'Google', 'Microsoft', 'IT Company', 'Apple', 'IBM', 'Oracle', 'Amazon']\n"
     ]
    }
   ],
   "source": [
    "# No. 6 Declare a list variable named it_companies and assign initial values Facebook, Google, Microsoft, Apple, IBM, Oracle and Amazon.\n",
    "it_companies = [\"Facebook\", \"Google\", \"Microsoft\", \"Apple\", \"IBM\", \"Oracle\", \"Amazon\"]\n",
    "# No. 7 Print the list using print()\n",
    "print(it_companies)\n",
    "# No. 8 Print the number of companies in the list\n",
    "print(f\"Print Angka dari Companies = {len(it_companies)}\")\n",
    "# No. 9 Print the first, middle and last company\n",
    "pertama = it_companies[0]\n",
    "tengah = it_companies[3]\n",
    "akhir = it_companies[6]\n",
    "print(f\"Item Pertama = {pertama}, Item Kedua = {tengah}, Item Ketiga = {akhir}\")\n",
    "# No. 10 Print the list after modifying one of the companies\n",
    "print(f\"Data Lama = {it_companies}\")\n",
    "it_companiesbaru = it_companies.copy()\n",
    "it_companiesbaru[0]  = \"Instagram\"\n",
    "print(f\"Data Baru = {it_companiesbaru}\")\n",
    "# No. 11 Add an IT company to it_companies and No. 12 Insert an IT company in the middle of the companies list\n",
    "it_companies.insert(3, \"IT Company\")\n",
    "print(it_companies)\n",
    "# No. 13 Change one of the it_companies names to uppercase (IBM excluded!)\n",
    "it_companies[0] = it_companies[0].upper()\n",
    "print(it_companies)"
   ]
  },
  {
   "cell_type": "code",
   "execution_count": 33,
   "id": "7836fefb",
   "metadata": {},
   "outputs": [
    {
     "name": "stdout",
     "output_type": "stream",
     "text": [
      "Facebook#; Google#; Microsoft#; Apple#; IBM#; Oracle#; Amazon\n"
     ]
    }
   ],
   "source": [
    "# No. 14 Join the it_companies with a string '#;  '\n",
    "it_companies = [\"Facebook\", \"Google\", \"Microsoft\", \"Apple\", \"IBM\", \"Oracle\", \"Amazon\"]\n",
    "hasil = '#; '.join(it_companies)\n",
    "print(f\"{hasil}\")"
   ]
  },
  {
   "cell_type": "code",
   "execution_count": 34,
   "id": "bcf15472",
   "metadata": {},
   "outputs": [
    {
     "name": "stdout",
     "output_type": "stream",
     "text": [
      "Facebook ada dalam IT Companies\n",
      "Sony Tidak Ada Dalam IT Companies\n"
     ]
    }
   ],
   "source": [
    "# No. 15 Check if a certain company exists in the it_companies list.\n",
    "it_companies = [\"Facebook\", \"Google\", \"Microsoft\", \"Apple\", \"IBM\", \"Oracle\", \"Amazon\"]\n",
    "if 'Facebook' in it_companies:\n",
    "    print(\"Facebook ada dalam IT Companies\")\n",
    "else:\n",
    "    print(\"Facebook Tidak Ada Dalam IT Companies\")\n",
    "if 'Sony' in it_companies:\n",
    "    print(\"Sony Ada Dalam IT Companies\")\n",
    "else:\n",
    "    print(\"Sony Tidak Ada Dalam IT Companies\")"
   ]
  },
  {
   "cell_type": "code",
   "execution_count": 36,
   "id": "42853bea",
   "metadata": {},
   "outputs": [
    {
     "name": "stdout",
     "output_type": "stream",
     "text": [
      "Data Asli = ['Facebook', 'Google', 'Microsoft', 'Apple', 'IBM', 'Oracle', 'Amazon']\n",
      "Data Urut = ['Amazon', 'Apple', 'Facebook', 'Google', 'IBM', 'Microsoft', 'Oracle']\n"
     ]
    }
   ],
   "source": [
    "# No. 16 Sort the list using sort() method\n",
    "it_companies = [\"Facebook\", \"Google\", \"Microsoft\", \"Apple\", \"IBM\", \"Oracle\", \"Amazon\"]\n",
    "print(f\"Data Asli = {it_companies}\")\n",
    "it_companies.sort()\n",
    "print(f\"Data Urut = {it_companies}\")"
   ]
  },
  {
   "cell_type": "code",
   "execution_count": 39,
   "id": "6c69a41c",
   "metadata": {},
   "outputs": [
    {
     "name": "stdout",
     "output_type": "stream",
     "text": [
      "Data Asli = ['Facebook', 'Google', 'Microsoft', 'Apple', 'IBM', 'Oracle', 'Amazon']\n",
      "Data Reverse = ['Amazon', 'Oracle', 'IBM', 'Apple', 'Microsoft', 'Google', 'Facebook']\n"
     ]
    }
   ],
   "source": [
    "# No. 17 Reverse the list in descending order using reverse() method\n",
    "it_companies = [\"Facebook\", \"Google\", \"Microsoft\", \"Apple\", \"IBM\", \"Oracle\", \"Amazon\"]\n",
    "print(f\"Data Asli = {it_companies}\")\n",
    "it_companies.reverse()\n",
    "print(f\"Data Reverse = {it_companies}\")"
   ]
  },
  {
   "cell_type": "code",
   "execution_count": 59,
   "id": "975b867e",
   "metadata": {},
   "outputs": [
    {
     "name": "stdout",
     "output_type": "stream",
     "text": [
      "['Facebook', 'Google', 'Microsoft']\n",
      "['IBM', 'Oracle', 'Amazon']\n",
      "IBM\n"
     ]
    }
   ],
   "source": [
    "# No. 18 Slice out the first 3 companies from the list\n",
    "it_companies = [\"Facebook\", \"Google\", \"Microsoft\", \"Apple\", \"IBM\", \"Oracle\", \"Amazon\"]\n",
    "sliceout = it_companies[:3]\n",
    "print(f\"{sliceout}\")\n",
    "# No. 19 Slice out the last 3 companies from the list\n",
    "sliceout = it_companies[-3:]\n",
    "print(f\"{sliceout}\")\n",
    "# No. 20 Slice out the middle IT company or companies from the list\n",
    "sliceout = it_companies[4]\n",
    "print(f\"{sliceout}\")"
   ]
  },
  {
   "cell_type": "code",
   "execution_count": 61,
   "id": "614f3ae0",
   "metadata": {},
   "outputs": [
    {
     "name": "stdout",
     "output_type": "stream",
     "text": [
      "['Apple']\n"
     ]
    },
    {
     "data": {
      "text/plain": [
       "'Pada contoh ini, kita pertama-tama menghitung indeks tengah dengan membagi panjang daftar it_companies dengan 2 menggunakan pembagian bilangan bulat (//). Kemudian, kita menggunakan notasi potongan untuk memotong perusahaan IT tengah atau perusahaan IT tengah-tengah. Karena dapat ada satu atau dua perusahaan tengah, kita memotong dua perusahaan dengan menambahkan 2 ke indeks tengah. Akhirnya, daftar yang dipotong ditetapkan ke variabel baru yang disebut middle_companies, dan dicetak menggunakan fungsi print().'"
      ]
     },
     "execution_count": 61,
     "metadata": {},
     "output_type": "execute_result"
    }
   ],
   "source": [
    "# Slice out jika data pada list banyak, dan hanya slice out yang ditengah\n",
    "it_companies = ['Facebook', 'Google', 'Microsoft', 'Apple', 'IBM', 'Oracle', 'Amazon']\n",
    "\n",
    "# Calculate the middle index\n",
    "middle_index = len(it_companies) // 2\n",
    "\n",
    "# Slice out the middle IT company or companies\n",
    "middle_companies = it_companies[middle_index:middle_index+1] #jika total it_companies ganjil maka index+1, jika genap maka+2\n",
    "\n",
    "# Print the sliced list\n",
    "print(middle_companies)\n",
    "\n",
    "\"\"\"Pada contoh ini, kita pertama-tama menghitung indeks tengah dengan membagi panjang daftar it_companies dengan 2 menggunakan pembagian bilangan bulat (//). Kemudian, kita menggunakan notasi potongan untuk memotong perusahaan IT tengah atau perusahaan IT tengah-tengah. Karena dapat ada satu atau dua perusahaan tengah, kita memotong dua perusahaan dengan menambahkan 2 ke indeks tengah. Akhirnya, daftar yang dipotong ditetapkan ke variabel baru yang disebut middle_companies, dan dicetak menggunakan fungsi print().\"\"\""
   ]
  },
  {
   "cell_type": "code",
   "execution_count": 62,
   "id": "9b95011a",
   "metadata": {},
   "outputs": [
    {
     "name": "stdout",
     "output_type": "stream",
     "text": [
      "['Google', 'Microsoft', 'Apple', 'IBM', 'Oracle', 'Amazon']\n"
     ]
    }
   ],
   "source": [
    "# No. 21 Remove the first IT company from the list\n",
    "it_companies = ['Facebook', 'Google', 'Microsoft', 'Apple', 'IBM', 'Oracle', 'Amazon']\n",
    "it_companies.remove(\"Facebook\")\n",
    "print(it_companies)"
   ]
  },
  {
   "cell_type": "code",
   "execution_count": 71,
   "id": "48d0ac45",
   "metadata": {},
   "outputs": [
    {
     "name": "stdout",
     "output_type": "stream",
     "text": [
      "['Facebook', 'Google', 'Microsoft', 'IBM', 'Oracle', 'Amazon']\n"
     ]
    }
   ],
   "source": [
    "# No. 22 Remove the middle IT company or companies from the list\n",
    "it_companies = ['Facebook', 'Google', 'Microsoft', 'Apple', 'IBM', 'Oracle', 'Amazon']\n",
    "angka_tengah = len(it_companies)//2\n",
    "del it_companies[angka_tengah:angka_tengah+1] #jika total it_companies ganjil maka index+1, jika genap maka+2\n",
    "print(it_companies)"
   ]
  },
  {
   "cell_type": "code",
   "execution_count": 73,
   "id": "3151f325",
   "metadata": {},
   "outputs": [
    {
     "name": "stdout",
     "output_type": "stream",
     "text": [
      "['Facebook', 'Google', 'Microsoft', 'Apple', 'IBM', 'Oracle']\n"
     ]
    }
   ],
   "source": [
    "# No. 23 Remove the last IT company from the list\n",
    "it_companies = ['Facebook', 'Google', 'Microsoft', 'Apple', 'IBM', 'Oracle', 'Amazon']\n",
    "it_companies.pop()\n",
    "print(it_companies)"
   ]
  },
  {
   "cell_type": "code",
   "execution_count": 78,
   "id": "85941774",
   "metadata": {},
   "outputs": [
    {
     "name": "stdout",
     "output_type": "stream",
     "text": [
      "[]\n"
     ]
    }
   ],
   "source": [
    "# No. 24 Remove all IT companies from the list\n",
    "it_companies = ['Facebook', 'Google', 'Microsoft', 'Apple', 'IBM', 'Oracle', 'Amazon']\n",
    "it_companies.clear()\n",
    "print(it_companies)"
   ]
  },
  {
   "cell_type": "code",
   "execution_count": 79,
   "id": "90458bde",
   "metadata": {},
   "outputs": [
    {
     "ename": "NameError",
     "evalue": "name 'it_companies' is not defined",
     "output_type": "error",
     "traceback": [
      "\u001b[1;31m---------------------------------------------------------------------------\u001b[0m",
      "\u001b[1;31mNameError\u001b[0m                                 Traceback (most recent call last)",
      "\u001b[1;32m~\\AppData\\Local\\Temp\\ipykernel_6760\\2496689628.py\u001b[0m in \u001b[0;36m<module>\u001b[1;34m\u001b[0m\n\u001b[0;32m      2\u001b[0m \u001b[0mit_companies\u001b[0m \u001b[1;33m=\u001b[0m \u001b[1;33m[\u001b[0m\u001b[1;34m'Facebook'\u001b[0m\u001b[1;33m,\u001b[0m \u001b[1;34m'Google'\u001b[0m\u001b[1;33m,\u001b[0m \u001b[1;34m'Microsoft'\u001b[0m\u001b[1;33m,\u001b[0m \u001b[1;34m'Apple'\u001b[0m\u001b[1;33m,\u001b[0m \u001b[1;34m'IBM'\u001b[0m\u001b[1;33m,\u001b[0m \u001b[1;34m'Oracle'\u001b[0m\u001b[1;33m,\u001b[0m \u001b[1;34m'Amazon'\u001b[0m\u001b[1;33m]\u001b[0m\u001b[1;33m\u001b[0m\u001b[1;33m\u001b[0m\u001b[0m\n\u001b[0;32m      3\u001b[0m \u001b[1;32mdel\u001b[0m \u001b[0mit_companies\u001b[0m\u001b[1;33m\u001b[0m\u001b[1;33m\u001b[0m\u001b[0m\n\u001b[1;32m----> 4\u001b[1;33m \u001b[0mprint\u001b[0m\u001b[1;33m(\u001b[0m\u001b[0mit_companies\u001b[0m\u001b[1;33m)\u001b[0m\u001b[1;33m\u001b[0m\u001b[1;33m\u001b[0m\u001b[0m\n\u001b[0m",
      "\u001b[1;31mNameError\u001b[0m: name 'it_companies' is not defined"
     ]
    }
   ],
   "source": [
    "# No. 25 Destroy the IT companies list\n",
    "it_companies = ['Facebook', 'Google', 'Microsoft', 'Apple', 'IBM', 'Oracle', 'Amazon']\n",
    "del it_companies\n",
    "print(it_companies)"
   ]
  },
  {
   "cell_type": "code",
   "execution_count": 81,
   "id": "e0cb2c66",
   "metadata": {},
   "outputs": [
    {
     "name": "stdout",
     "output_type": "stream",
     "text": [
      "['HTML', 'CSS', 'JS', 'React', 'Redux', 'Node', 'Express', 'MongoDB']\n",
      "['HTML', 'CSS', 'JS', 'React', 'Redux', 'Python', 'SQL']\n"
     ]
    }
   ],
   "source": [
    "# 26. Join the following lists:\n",
    "front_end = ['HTML', 'CSS', 'JS', 'React', 'Redux']\n",
    "back_end = ['Node','Express', 'MongoDB']\n",
    "full_stack = front_end + back_end\n",
    "print(full_stack)\n",
    "# 27. After joining the lists in question 26. Copy the joined list and assign it to a variable full_stack. Then insert Python and SQL after Redux.\n",
    "full_stack = front_end.copy()\n",
    "nambahdata = [\"Python\", \"SQL\"]\n",
    "full_stack.extend(nambahdata)\n",
    "print(full_stack)"
   ]
  },
  {
   "cell_type": "code",
   "execution_count": 116,
   "id": "570b6732",
   "metadata": {
    "scrolled": true
   },
   "outputs": [
    {
     "name": "stdout",
     "output_type": "stream",
     "text": [
      "[19, 19, 20, 22, 24, 24, 24, 25, 25, 26]\n",
      "Yang Paling terkecil = 19\n",
      "Yang Paling terbesar = 26\n",
      "[19, 19, 20, 22, 24, 24, 24, 25, 25, 26, 19, 26]\n",
      "[19, 19, 19, 20, 22, 24, 24, 24, 25, 25, 26, 26]\n",
      "Ada berapa index di list ini = 12\n",
      "Median Agenya adalah = [24]\n",
      "Total datanya adalah 273\n",
      "Rata rata usia tersebut adalah = 22.75\n",
      "Print Range = 7\n",
      "22.75\n",
      "The absolute difference between min and average is greater than the absolute difference between max and average.\n"
     ]
    },
    {
     "data": {
      "text/plain": [
       "'Seperti yang terlihat pada output di atas, kode tersebut membandingkan selisih absolut dari (min - rata-rata) \\ndan (max - rata-rata) serta mencetak pesan yang menunjukkan mana yang lebih besar. Pada kasus ini, \\nselisih absolut antara max_age (26) dan average_age (22.4) lebih besar daripada selisih absolut antara min_age (19) \\ndan average_age (22.4), sehingga output yang dihasilkan adalah \"Selisih absolut antara nilai \\nmaksimum dan rata-rata lebih besar daripada selisih absolut antara nilai minimum dan rata-rata.'"
      ]
     },
     "execution_count": 116,
     "metadata": {},
     "output_type": "execute_result"
    }
   ],
   "source": [
    "# Exercise 2 \n",
    "# No 1. The following is a list of 10 students ages:\n",
    "ages = [19, 22, 19, 24, 20, 25, 26, 24, 25, 24]\n",
    "# Sort the list and find the min and max age\n",
    "ages.sort()\n",
    "print(ages)\n",
    "print(f\"Yang Paling terkecil = {min(ages)}\")\n",
    "print(f\"Yang Paling terbesar = {max(ages)}\")\n",
    "# Add the min age and the max age again to the list\n",
    "nambahdata = ages.copy()\n",
    "datayangditambah = [19, 26]\n",
    "nambahdata.extend(datayangditambah)\n",
    "print(nambahdata)\n",
    "# Find the median age (one middle item or two middle items divided by two)\n",
    "nambahdata.sort()\n",
    "print(nambahdata)\n",
    "print(f\"Ada berapa index di list ini = {len(nambahdata)}\")\n",
    "middle_index = len(nambahdata)//2\n",
    "angka_tengah = nambahdata[middle_index:middle_index+1]\n",
    "print(f\"Median Agenya adalah = {angka_tengah}\")\n",
    "# Find the average age (sum of all items divided by their number)\n",
    "nambahdata.sort()\n",
    "totaldata = sum(nambahdata)\n",
    "print(f\"Total datanya adalah {totaldata}\")\n",
    "average = totaldata/12\n",
    "print(f\"Rata rata usia tersebut adalah = {average}\")\n",
    "# Find the range of the ages (max minus min)\n",
    "nambahdata.sort()\n",
    "maxdata = max(nambahdata)\n",
    "mindata = min(nambahdata)\n",
    "range = maxdata - mindata\n",
    "print(f\"Print Range = {range}\")\n",
    "\n",
    "# Compare the value of (min - average) and (max - average), use abs() method\n",
    "\"\"\"Untuk membandingkan nilai dari (min - rata-rata) dan (max - rata-rata) pada list [19, 19, 20, 22, 24, 24, 24, 25, 25, 26] dan mengambil nilai mutlak dari selisih keduanya, pertama-tama kita harus mencari nilai minimum, maksimum, dan rata-rata (mean) dari list tersebut.\n",
    "Berikut ini adalah kode untuk mencari nilai (min - rata-rata) dan (max - rata-rata) serta membandingkan selisih absolut keduanya\"\"\"\n",
    "n = len(nambahdata)\n",
    "average_age = sum(nambahdata) / n\n",
    "min_age = min(nambahdata)\n",
    "max_age = max(nambahdata)\n",
    "\n",
    "diff_min = abs(min_age - average_age)\n",
    "diff_max = abs(max_age - average_age)\n",
    "\n",
    "if diff_min > diff_max:\n",
    "    print(\"The absolute difference between min and average is greater than the absolute difference between max and average.\")\n",
    "elif diff_max > diff_min:\n",
    "    print(\"The absolute difference between max and average is greater than the absolute difference between min and average.\")\n",
    "else:\n",
    "    print(\"The absolute difference between min and average is equal to the absolute difference between max and average.\")\n",
    "    \n",
    "\"\"\"Seperti yang terlihat pada output di atas, kode tersebut membandingkan selisih absolut dari (min - rata-rata) \n",
    "dan (max - rata-rata) serta mencetak pesan yang menunjukkan mana yang lebih besar. Pada kasus ini, \n",
    "selisih absolut antara max_age (26) dan average_age (22.4) lebih besar daripada selisih absolut antara min_age (19) \n",
    "dan average_age (22.4), sehingga output yang dihasilkan adalah \"Selisih absolut antara nilai \n",
    "maksimum dan rata-rata lebih besar daripada selisih absolut antara nilai minimum dan rata-rata.\"\"\""
   ]
  },
  {
   "cell_type": "code",
   "execution_count": 6,
   "id": "3a4585dd",
   "metadata": {},
   "outputs": [
    {
     "name": "stdout",
     "output_type": "stream",
     "text": [
      "Banyaknya negara ada = 193\n",
      "ini adalah daftar nama tengah dari beberapa list negara = ['Lesotho']\n"
     ]
    }
   ],
   "source": [
    "# 1. Find the middle country(ies) in the countries list\n",
    "countries = [\n",
    "  'Afghanistan',\n",
    "  'Albania',\n",
    "  'Algeria',\n",
    "  'Andorra',\n",
    "  'Angola',\n",
    "  'Antigua and Barbuda',\n",
    "  'Argentina',\n",
    "  'Armenia',\n",
    "  'Australia',\n",
    "  'Austria',\n",
    "  'Azerbaijan',\n",
    "  'Bahamas',\n",
    "  'Bahrain',\n",
    "  'Bangladesh',\n",
    "  'Barbados',\n",
    "  'Belarus',\n",
    "  'Belgium',\n",
    "  'Belize',\n",
    "  'Benin',\n",
    "  'Bhutan',\n",
    "  'Bolivia',\n",
    "  'Bosnia and Herzegovina',\n",
    "  'Botswana',\n",
    "  'Brazil',\n",
    "  'Brunei',\n",
    "  'Bulgaria',\n",
    "  'Burkina Faso',\n",
    "  'Burundi',\n",
    "  'Cambodia',\n",
    "  'Cameroon',\n",
    "  'Canada',\n",
    "  'Cape Verde',\n",
    "  'Central African Republic',\n",
    "  'Chad',\n",
    "  'Chile',\n",
    "  'China',\n",
    "  'Colombi',\n",
    "  'Comoros',\n",
    "  'Congo (Brazzaville)',\n",
    "  'Congo',\n",
    "  'Costa Rica',\n",
    "  \"Cote d'Ivoire\",\n",
    "  'Croatia',\n",
    "  'Cuba',\n",
    "  'Cyprus',\n",
    "  'Czech Republic',\n",
    "  'Denmark',\n",
    "  'Djibouti',\n",
    "  'Dominica',\n",
    "  'Dominican Republic',\n",
    "  'East Timor (Timor Timur)',\n",
    "  'Ecuador',\n",
    "  'Egypt',\n",
    "  'El Salvador',\n",
    "  'Equatorial Guinea',\n",
    "  'Eritrea',\n",
    "  'Estonia',\n",
    "  'Ethiopia',\n",
    "  'Fiji',\n",
    "  'Finland',\n",
    "  'France',\n",
    "  'Gabon',\n",
    "  'Gambia, The',\n",
    "  'Georgia',\n",
    "  'Germany',\n",
    "  'Ghana',\n",
    "  'Greece',\n",
    "  'Grenada',\n",
    "  'Guatemala',\n",
    "  'Guinea',\n",
    "  'Guinea-Bissau',\n",
    "  'Guyana',\n",
    "  'Haiti',\n",
    "  'Honduras',\n",
    "  'Hungary',\n",
    "  'Iceland',\n",
    "  'India',\n",
    "  'Indonesia',\n",
    "  'Iran',\n",
    "  'Iraq',\n",
    "  'Ireland',\n",
    "  'Israel',\n",
    "  'Italy',\n",
    "  'Jamaica',\n",
    "  'Japan',\n",
    "  'Jordan',\n",
    "  'Kazakhstan',\n",
    "  'Kenya',\n",
    "  'Kiribati',\n",
    "  'Korea, North',\n",
    "  'Korea, South',\n",
    "  'Kuwait',\n",
    "  'Kyrgyzstan',\n",
    "  'Laos',\n",
    "  'Latvia',\n",
    "  'Lebanon',\n",
    "  'Lesotho',\n",
    "  'Liberia',\n",
    "  'Libya',\n",
    "  'Liechtenstein',\n",
    "  'Lithuania',\n",
    "  'Luxembourg',\n",
    "  'Macedonia',\n",
    "  'Madagascar',\n",
    "  'Malawi',\n",
    "  'Malaysia',\n",
    "  'Maldives',\n",
    "  'Mali',\n",
    "  'Malta',\n",
    "  'Marshall Islands',\n",
    "  'Mauritania',\n",
    "  'Mauritius',\n",
    "  'Mexico',\n",
    "  'Micronesia',\n",
    "  'Moldova',\n",
    "  'Monaco',\n",
    "  'Mongolia',\n",
    "  'Morocco',\n",
    "  'Mozambique',\n",
    "  'Myanmar',\n",
    "  'Namibia',\n",
    "  'Nauru',\n",
    "  'Nepal',\n",
    "  'Netherlands',\n",
    "  'New Zealand',\n",
    "  'Nicaragua',\n",
    "  'Niger',\n",
    "  'Nigeria',\n",
    "  'Norway',\n",
    "  'Oman',\n",
    "  'Pakistan',\n",
    "  'Palau',\n",
    "  'Panama',\n",
    "  'Papua New Guinea',\n",
    "  'Paraguay',\n",
    "  'Peru',\n",
    "  'Philippines',\n",
    "  'Poland',\n",
    "  'Portugal',\n",
    "  'Qatar',\n",
    "  'Romania',\n",
    "  'Russia',\n",
    "  'Rwanda',\n",
    "  'Saint Kitts and Nevis',\n",
    "  'Saint Lucia',\n",
    "  'Saint Vincent',\n",
    "  'Samoa',\n",
    "  'San Marino',\n",
    "  'Sao Tome and Principe',\n",
    "  'Saudi Arabia',\n",
    "  'Senegal',\n",
    "  'Serbia and Montenegro',\n",
    "  'Seychelles',\n",
    "  'Sierra Leone',\n",
    "  'Singapore',\n",
    "  'Slovakia',\n",
    "  'Slovenia',\n",
    "  'Solomon Islands',\n",
    "  'Somalia',\n",
    "  'South Africa',\n",
    "  'Spain',\n",
    "  'Sri Lanka',\n",
    "  'Sudan',\n",
    "  'Suriname',\n",
    "  'Swaziland',\n",
    "  'Sweden',\n",
    "  'Switzerland',\n",
    "  'Syria',\n",
    "  'Taiwan',\n",
    "  'Tajikistan',\n",
    "  'Tanzania',\n",
    "  'Thailand',\n",
    "  'Togo',\n",
    "  'Tonga',\n",
    "  'Trinidad and Tobago',\n",
    "  'Tunisia',\n",
    "  'Turkey',\n",
    "  'Turkmenistan',\n",
    "  'Tuvalu',\n",
    "  'Uganda',\n",
    "  'Ukraine',\n",
    "  'United Arab Emirates',\n",
    "  'United Kingdom',\n",
    "  'United States',\n",
    "  'Uruguay',\n",
    "  'Uzbekistan',\n",
    "  'Vanuatu',\n",
    "  'Vatican City',\n",
    "  'Venezuela',\n",
    "  'Vietnam',\n",
    "  'Yemen',\n",
    "  'Zambia',\n",
    "  'Zimbabwe',\n",
    "]\n",
    "\n",
    "print(f\"Banyaknya negara ada = {len(countries)}\")\n",
    "middlecountries = len(countries)//2\n",
    "middle_countries = countries[middlecountries:middlecountries+1]\n",
    "print(f\"ini adalah daftar nama tengah dari beberapa list negara = {middle_countries}\")"
   ]
  },
  {
   "cell_type": "code",
   "execution_count": null,
   "id": "e3cd9544",
   "metadata": {},
   "outputs": [],
   "source": []
  }
 ],
 "metadata": {
  "kernelspec": {
   "display_name": "Python 3 (ipykernel)",
   "language": "python",
   "name": "python3"
  },
  "language_info": {
   "codemirror_mode": {
    "name": "ipython",
    "version": 3
   },
   "file_extension": ".py",
   "mimetype": "text/x-python",
   "name": "python",
   "nbconvert_exporter": "python",
   "pygments_lexer": "ipython3",
   "version": "3.9.13"
  }
 },
 "nbformat": 4,
 "nbformat_minor": 5
}
